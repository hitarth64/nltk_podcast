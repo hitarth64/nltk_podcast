{
 "cells": [
  {
   "cell_type": "code",
   "execution_count": 2,
   "metadata": {},
   "outputs": [],
   "source": [
    "import numpy as np\n",
    "import pandas as pd\n",
    "import nltk\n",
    "import mysql.connector\n",
    "import glob"
   ]
  },
  {
   "cell_type": "code",
   "execution_count": 6,
   "metadata": {},
   "outputs": [
    {
     "name": "stdout",
     "output_type": "stream",
     "text": [
      "('information_schema',)\n",
      "('mdb',)\n",
      "('mysql',)\n",
      "('oqmd',)\n",
      "('performance_schema',)\n",
      "('sys',)\n"
     ]
    }
   ],
   "source": [
    "# Connect and create a new database\n",
    "\n",
    "mydb = mysql.connector.connect(host='localhost',user='hitu',passwd='pass')\n",
    "mycursor = mydb.cursor()\n",
    "\n",
    "# CREATE mdb database if it doesn't exist already\n",
    "mycursor.execute(\"CREATE DATABASE IF NOT EXISTS mdb\")\n",
    "mycursor.execute(\"SHOW DATABASES\") \n",
    "\n",
    "for x in mycursor:\n",
    "    print(x)"
   ]
  },
  {
   "cell_type": "code",
   "execution_count": 11,
   "metadata": {},
   "outputs": [],
   "source": [
    "# Connect to the created database and create a new table of transcripts\n",
    "\n",
    "mdb = mysql.connector.connect(host='localhost',user='hitu',password='pass',database='mdb')\n",
    "mycursor = mdb.cursor()\n"
   ]
  },
  {
   "cell_type": "code",
   "execution_count": 65,
   "metadata": {},
   "outputs": [
    {
     "name": "stdout",
     "output_type": "stream",
     "text": [
      "('customers',)\n",
      "('podcasts',)\n"
     ]
    }
   ],
   "source": [
    "mycursor.execute('CREATE TABLE IF NOT EXISTS podcasts (episode_no SMALLINT, full_text LONGBLOB)')\n",
    "\n",
    "# deletes the table podcasts from the database\n",
    "# mycursor.execute(\"DROP TABLE podcasts\")\n",
    "\n",
    "mycursor.execute('SHOW TABLES')\n",
    "for x in mycursor:\n",
    "    print(x)\n",
    "    \n",
    "# Making episode number our primary key\n",
    "mycursor.execute(\"ALTER TABLE podcasts ADD PRIMARY KEY (episode_no)\")"
   ]
  },
  {
   "cell_type": "code",
   "execution_count": 66,
   "metadata": {},
   "outputs": [
    {
     "name": "stdout",
     "output_type": "stream",
     "text": [
      "217\n",
      "/home/hitarth/talk-python-transcripts/transcripts/031.txt\n",
      "31\n"
     ]
    }
   ],
   "source": [
    "# Total number of episodes\n",
    "x = glob.glob('/home/hitarth/talk-python-transcripts/transcripts/*.txt')\n",
    "print(len(x))\n",
    "print(x[0])\n",
    "print(int(x[0][-7:-4]))"
   ]
  },
  {
   "cell_type": "code",
   "execution_count": 67,
   "metadata": {},
   "outputs": [
    {
     "name": "stdout",
     "output_type": "stream",
     "text": [
      "217 records inserted\n"
     ]
    }
   ],
   "source": [
    "#Multiple insertions\n",
    "sql = \"INSERT INTO podcasts (episode_no, full_text) VALUES (%s, %s)\"\n",
    "val = []\n",
    "for i in range(len(x)):\n",
    "    f = open(x[i],'r')\n",
    "    val.append((int(x[i][-7:-4]), f.read()))\n",
    "\n",
    "mycursor.executemany(sql,val)\n",
    "\n",
    "mdb.commit()\n",
    "\n",
    "print(mycursor.rowcount, \"records inserted\")"
   ]
  },
  {
   "cell_type": "code",
   "execution_count": null,
   "metadata": {},
   "outputs": [],
   "source": []
  }
 ],
 "metadata": {
  "kernelspec": {
   "display_name": "Python 3",
   "language": "python",
   "name": "python3"
  },
  "language_info": {
   "codemirror_mode": {
    "name": "ipython",
    "version": 3
   },
   "file_extension": ".py",
   "mimetype": "text/x-python",
   "name": "python",
   "nbconvert_exporter": "python",
   "pygments_lexer": "ipython3",
   "version": "3.5.5"
  }
 },
 "nbformat": 4,
 "nbformat_minor": 2
}
