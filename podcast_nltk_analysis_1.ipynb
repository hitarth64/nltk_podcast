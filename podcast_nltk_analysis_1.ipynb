{
 "cells": [
  {
   "cell_type": "code",
   "execution_count": 1,
   "metadata": {},
   "outputs": [],
   "source": [
    "import numpy as np\n",
    "import pandas as pd\n",
    "import nltk\n",
    "import mysql.connector\n",
    "import glob\n",
    "import pickle\n",
    "from nltk.collocations import *"
   ]
  },
  {
   "cell_type": "code",
   "execution_count": 2,
   "metadata": {},
   "outputs": [],
   "source": [
    "# Each element of the dictionary is a list of words spoken during a particular episode of the podcast\n",
    "with open('podcast_dict.pkl','rb') as f:\n",
    "    data = pickle.load(f)"
   ]
  },
  {
   "cell_type": "code",
   "execution_count": 3,
   "metadata": {},
   "outputs": [],
   "source": [
    "# Combining all the podcasts\n",
    "total_corpus = []\n",
    "for i in data.keys():\n",
    "    total_corpus += data[i] \n"
   ]
  },
  {
   "cell_type": "code",
   "execution_count": 5,
   "metadata": {},
   "outputs": [
    {
     "name": "stdout",
     "output_type": "stream",
     "text": [
      "Most frequent words:  [('', 106430), ('the', 69330), ('and', 61786), ('to', 60061), ('a', 52463), ('of', 51644), ('you', 47489), ('that', 46122), ('I', 44468), ('it', 30790)]\n",
      "Occurences of word quantum:  166\n",
      "Occurences of word physics:  92\n",
      "Words occuring only once:  ['algebric', 'Mailgun', 'buzzing', 'Timo,', '\"Kate', 'Golden', 'namedrop,', 'freshman?', \"entrepreneurs'\", 'hairy,']\n"
     ]
    }
   ],
   "source": [
    "# Most frequent words\n",
    "total_freq_dist = nltk.FreqDist(total_corpus)\n",
    "print('Most frequent words: ', total_freq_dist.most_common(10))\n",
    "print('Occurences of word quantum: ', total_freq_dist['quantum'])\n",
    "print('Occurences of word physics: ',total_freq_dist['physics'])\n",
    "print('Words occuring only once: ',total_freq_dist.hapaxes()[0:10])"
   ]
  },
  {
   "cell_type": "code",
   "execution_count": 6,
   "metadata": {},
   "outputs": [
    {
     "data": {
      "text/plain": [
       "[('\"9', 'Reasons'),\n",
       " ('\"App', 'Engine\"'),\n",
       " ('\"Ask', 'Chargepoint'),\n",
       " ('\"Austin', 'Digital\"'),\n",
       " ('\"Design', 'defense\"'),\n",
       " ('\"Dev', 'Bootcamp\"'),\n",
       " ('\"Ex', 'Machina\"?'),\n",
       " ('\"First', 'Analytics\",'),\n",
       " ('\"HTML', 'example\"'),\n",
       " ('\"IYI', 'tracking\"')]"
      ]
     },
     "execution_count": 6,
     "metadata": {},
     "output_type": "execute_result"
    }
   ],
   "source": [
    "# Finding bigrams\n",
    "# pmi = Pointwise Mutual Information\n",
    "finder = BigramCollocationFinder.from_words(total_corpus)\n",
    "finder.nbest(nltk.collocations.BigramAssocMeasures().pmi, 10)"
   ]
  },
  {
   "cell_type": "code",
   "execution_count": null,
   "metadata": {},
   "outputs": [],
   "source": []
  }
 ],
 "metadata": {
  "kernelspec": {
   "display_name": "Python 3",
   "language": "python",
   "name": "python3"
  },
  "language_info": {
   "codemirror_mode": {
    "name": "ipython",
    "version": 3
   },
   "file_extension": ".py",
   "mimetype": "text/x-python",
   "name": "python",
   "nbconvert_exporter": "python",
   "pygments_lexer": "ipython3",
   "version": "3.5.5"
  }
 },
 "nbformat": 4,
 "nbformat_minor": 2
}
