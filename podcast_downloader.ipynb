{
 "cells": [
  {
   "cell_type": "code",
   "execution_count": 81,
   "metadata": {},
   "outputs": [],
   "source": [
    "import numpy as np\n",
    "import pandas as pd\n",
    "import nltk\n",
    "import mysql.connector\n",
    "import glob\n",
    "import pickle\n",
    "from nltk.collocations import *"
   ]
  },
  {
   "cell_type": "code",
   "execution_count": 8,
   "metadata": {},
   "outputs": [
    {
     "name": "stdout",
     "output_type": "stream",
     "text": [
      "217\n",
      "/home/hitarth/talk-python-transcripts/transcripts/031.txt\n",
      "31\n"
     ]
    }
   ],
   "source": [
    "# Total number of episodes\n",
    "x = glob.glob('/home/hitarth/talk-python-transcripts/transcripts/*.txt')\n",
    "print(len(x))\n",
    "print(x[0])\n",
    "print(int(x[0][-7:-4]))\n",
    "\n"
   ]
  },
  {
   "cell_type": "code",
   "execution_count": 70,
   "metadata": {},
   "outputs": [],
   "source": [
    "data = {}\n",
    "\n",
    "for i in range(len(x)):\n",
    "    f = open(x[i],'r')\n",
    "    vals = f.readlines()\n",
    "    vals = [i.replace(\"\\n\",\"\") for i in vals]\n",
    "    vals = [i.replace(\"\\xa0\",\" \") for i in vals]\n",
    "    vals = [i.replace(\"it\\'s\",\"it's\") for i in vals]\n",
    "    vals = [i.split(':')[-1][3:] if ':' in i else i for i in vals]\n",
    "    vals = [i.replace('.', ' ') for i in vals]\n",
    "    vals = [i for i in vals if len(i)>1]\n",
    "    vals = (' ').join(vals[3:])\n",
    "    data[int(x[i][-7:-4])] = vals.split(' ')\n",
    "\n",
    "#df = pd.DataFrame.from_dict(data,orient='index')\n",
    "#df.to_pickle('podcast_df.pkl')"
   ]
  },
  {
   "cell_type": "code",
   "execution_count": 71,
   "metadata": {},
   "outputs": [],
   "source": [
    "with open('podcast_dict.pkl','wb') as f:\n",
    "    pickle.dump(data,f)"
   ]
  }
 ],
 "metadata": {
  "kernelspec": {
   "display_name": "Python 3",
   "language": "python",
   "name": "python3"
  },
  "language_info": {
   "codemirror_mode": {
    "name": "ipython",
    "version": 3
   },
   "file_extension": ".py",
   "mimetype": "text/x-python",
   "name": "python",
   "nbconvert_exporter": "python",
   "pygments_lexer": "ipython3",
   "version": "3.5.5"
  }
 },
 "nbformat": 4,
 "nbformat_minor": 2
}
