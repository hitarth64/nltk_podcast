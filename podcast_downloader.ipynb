{
 "cells": [
  {
   "cell_type": "code",
   "execution_count": 2,
   "metadata": {},
   "outputs": [],
   "source": [
    "import numpy as np\n",
    "import pandas as pd\n",
    "import nltk\n",
    "import mysql.connector\n",
    "import glob"
   ]
  },
  {
   "cell_type": "code",
   "execution_count": 3,
   "metadata": {},
   "outputs": [
    {
     "name": "stdout",
     "output_type": "stream",
     "text": [
      "217\n",
      "/home/hitarth/talk-python-transcripts/transcripts/031.txt\n",
      "31\n"
     ]
    }
   ],
   "source": [
    "# Total number of episodes\n",
    "x = glob.glob('/home/hitarth/talk-python-transcripts/transcripts/*.txt')\n",
    "print(len(x))\n",
    "print(x[0])\n",
    "print(int(x[0][-7:-4]))\n",
    "\n"
   ]
  },
  {
   "cell_type": "code",
   "execution_count": 28,
   "metadata": {},
   "outputs": [],
   "source": [
    "data = {}\n",
    "\n",
    "for i in range(len(x)):\n",
    "    f = open(x[i],'r')\n",
    "    vals = f.readlines()\n",
    "    vals = [i.replace(\"\\n\",\"\") for i in vals]\n",
    "    vals = [i for i in vals if len(i)>1]\n",
    "    data[int(x[i][-7:-4])] = vals\n",
    "\n",
    "df = pd.DataFrame.from_dict(data,orient='index')\n",
    "df.to_pickle('podcast_df.pkl')"
   ]
  },
  {
   "cell_type": "code",
   "execution_count": 29,
   "metadata": {},
   "outputs": [
    {
     "data": {
      "text/plain": [
       "'/home/hitarth/Downloads'"
      ]
     },
     "execution_count": 29,
     "metadata": {},
     "output_type": "execute_result"
    }
   ],
   "source": [
    "pwd"
   ]
  },
  {
   "cell_type": "code",
   "execution_count": 7,
   "metadata": {},
   "outputs": [
    {
     "data": {
      "text/plain": [
       "'Machine learning allows computers to find hidden insights without being explicitly programmed where to look or what to look for. Thanks to the work of some dedicated developers, Python has one of the best machine learning platforms called scikit-learn. In this episode, Alexandre Gramfort is here to tell us all about scikit-learn and machine learning. This is Talk Python To Me number 31 recorded Friday, September 25th 2015.\\n'"
      ]
     },
     "execution_count": 7,
     "metadata": {},
     "output_type": "execute_result"
    }
   ],
   "source": [
    "vals[0]"
   ]
  },
  {
   "cell_type": "code",
   "execution_count": 8,
   "metadata": {},
   "outputs": [
    {
     "data": {
      "text/plain": [
       "'\\n'"
      ]
     },
     "execution_count": 8,
     "metadata": {},
     "output_type": "execute_result"
    }
   ],
   "source": [
    "vals[1]"
   ]
  },
  {
   "cell_type": "code",
   "execution_count": 9,
   "metadata": {},
   "outputs": [
    {
     "data": {
      "text/plain": [
       "'[music intro]\\n'"
      ]
     },
     "execution_count": 9,
     "metadata": {},
     "output_type": "execute_result"
    }
   ],
   "source": [
    "vals[2]"
   ]
  },
  {
   "cell_type": "code",
   "execution_count": 13,
   "metadata": {},
   "outputs": [
    {
     "data": {
      "text/plain": [
       "'Machine learning allows computers to find hidden insights without being explicitly programmed where to look or what to look for. Thanks to the work of some dedicated developers, Python has one of the best machine learning platforms called scikit-learn. In this episode, Alexandre Gramfort is here to tell us all about scikit-learn and machine learning. This is Talk Python To Me number 31 recorded Friday, September 25th 2015.'"
      ]
     },
     "execution_count": 13,
     "metadata": {},
     "output_type": "execute_result"
    }
   ],
   "source": [
    "vals[0].replace(\"\\n\", \"\")"
   ]
  },
  {
   "cell_type": "code",
   "execution_count": null,
   "metadata": {},
   "outputs": [],
   "source": []
  }
 ],
 "metadata": {
  "kernelspec": {
   "display_name": "Python 3",
   "language": "python",
   "name": "python3"
  },
  "language_info": {
   "codemirror_mode": {
    "name": "ipython",
    "version": 3
   },
   "file_extension": ".py",
   "mimetype": "text/x-python",
   "name": "python",
   "nbconvert_exporter": "python",
   "pygments_lexer": "ipython3",
   "version": "3.5.5"
  }
 },
 "nbformat": 4,
 "nbformat_minor": 2
}
